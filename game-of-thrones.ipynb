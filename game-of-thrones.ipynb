{
 "cells": [
  {
   "cell_type": "markdown",
   "id": "33c15636",
   "metadata": {
    "papermill": {
     "duration": 0.013806,
     "end_time": "2021-11-22T17:10:46.136393",
     "exception": false,
     "start_time": "2021-11-22T17:10:46.122587",
     "status": "completed"
    },
    "tags": []
   },
   "source": [
    "# The Game of Thrones"
   ]
  },
  {
   "cell_type": "code",
   "execution_count": 1,
   "id": "44ac1658",
   "metadata": {
    "_cell_guid": "b1076dfc-b9ad-4769-8c92-a6c4dae69d19",
    "_uuid": "8f2839f25d086af736a60e9eeb907d3b93b6e0e5",
    "execution": {
     "iopub.execute_input": "2021-11-22T17:10:46.166621Z",
     "iopub.status.busy": "2021-11-22T17:10:46.165432Z",
     "iopub.status.idle": "2021-11-22T17:10:46.181045Z",
     "shell.execute_reply": "2021-11-22T17:10:46.181874Z",
     "shell.execute_reply.started": "2021-11-22T17:07:51.142004Z"
    },
    "papermill": {
     "duration": 0.032589,
     "end_time": "2021-11-22T17:10:46.182246",
     "exception": false,
     "start_time": "2021-11-22T17:10:46.149657",
     "status": "completed"
    },
    "tags": []
   },
   "outputs": [
    {
     "name": "stdout",
     "output_type": "stream",
     "text": [
      "/kaggle/input/game-of-thrones/character-predictions.csv\n",
      "/kaggle/input/game-of-thrones/battles.csv\n",
      "/kaggle/input/game-of-thrones/character-deaths.csv\n"
     ]
    }
   ],
   "source": [
    "# This Python 3 environment comes with many helpful analytics libraries installed\n",
    "# It is defined by the kaggle/python Docker image: https://github.com/kaggle/docker-python\n",
    "# For example, here's several helpful packages to load\n",
    "\n",
    "import numpy as np # linear algebra\n",
    "import pandas as pd # data processing, CSV file I/O (e.g. pd.read_csv)\n",
    "\n",
    "# Input data files are available in the read-only \"../input/\" directory\n",
    "# For example, running this (by clicking run or pressing Shift+Enter) will list all files under the input directory\n",
    "\n",
    "import os\n",
    "for dirname, _, filenames in os.walk('/kaggle/input'):\n",
    "    for filename in filenames:\n",
    "        print(os.path.join(dirname, filename))\n",
    "\n",
    "# You can write up to 20GB to the current directory (/kaggle/working/) that gets preserved as output when you create a version using \"Save & Run All\" \n",
    "# You can also write temporary files to /kaggle/temp/, but they won't be saved outside of the current session"
   ]
  },
  {
   "cell_type": "code",
   "execution_count": 2,
   "id": "7cf110ba",
   "metadata": {
    "execution": {
     "iopub.execute_input": "2021-11-22T17:10:46.214680Z",
     "iopub.status.busy": "2021-11-22T17:10:46.213977Z",
     "iopub.status.idle": "2021-11-22T17:10:46.261775Z",
     "shell.execute_reply": "2021-11-22T17:10:46.262279Z",
     "shell.execute_reply.started": "2021-11-22T17:07:51.155277Z"
    },
    "papermill": {
     "duration": 0.065986,
     "end_time": "2021-11-22T17:10:46.262462",
     "exception": false,
     "start_time": "2021-11-22T17:10:46.196476",
     "status": "completed"
    },
    "tags": []
   },
   "outputs": [
    {
     "data": {
      "text/html": [
       "<div>\n",
       "<style scoped>\n",
       "    .dataframe tbody tr th:only-of-type {\n",
       "        vertical-align: middle;\n",
       "    }\n",
       "\n",
       "    .dataframe tbody tr th {\n",
       "        vertical-align: top;\n",
       "    }\n",
       "\n",
       "    .dataframe thead th {\n",
       "        text-align: right;\n",
       "    }\n",
       "</style>\n",
       "<table border=\"1\" class=\"dataframe\">\n",
       "  <thead>\n",
       "    <tr style=\"text-align: right;\">\n",
       "      <th></th>\n",
       "      <th>name</th>\n",
       "      <th>year</th>\n",
       "      <th>battle_number</th>\n",
       "      <th>attacker_king</th>\n",
       "      <th>defender_king</th>\n",
       "      <th>attacker_1</th>\n",
       "      <th>attacker_2</th>\n",
       "      <th>attacker_3</th>\n",
       "      <th>attacker_4</th>\n",
       "      <th>defender_1</th>\n",
       "      <th>...</th>\n",
       "      <th>major_death</th>\n",
       "      <th>major_capture</th>\n",
       "      <th>attacker_size</th>\n",
       "      <th>defender_size</th>\n",
       "      <th>attacker_commander</th>\n",
       "      <th>defender_commander</th>\n",
       "      <th>summer</th>\n",
       "      <th>location</th>\n",
       "      <th>region</th>\n",
       "      <th>note</th>\n",
       "    </tr>\n",
       "  </thead>\n",
       "  <tbody>\n",
       "    <tr>\n",
       "      <th>0</th>\n",
       "      <td>Battle of the Golden Tooth</td>\n",
       "      <td>298</td>\n",
       "      <td>1</td>\n",
       "      <td>Joffrey/Tommen Baratheon</td>\n",
       "      <td>Robb Stark</td>\n",
       "      <td>Lannister</td>\n",
       "      <td>NaN</td>\n",
       "      <td>NaN</td>\n",
       "      <td>NaN</td>\n",
       "      <td>Tully</td>\n",
       "      <td>...</td>\n",
       "      <td>1.0</td>\n",
       "      <td>0.0</td>\n",
       "      <td>15000.0</td>\n",
       "      <td>4000.0</td>\n",
       "      <td>Jaime Lannister</td>\n",
       "      <td>Clement Piper, Vance</td>\n",
       "      <td>1.0</td>\n",
       "      <td>Golden Tooth</td>\n",
       "      <td>The Westerlands</td>\n",
       "      <td>NaN</td>\n",
       "    </tr>\n",
       "    <tr>\n",
       "      <th>1</th>\n",
       "      <td>Battle at the Mummer's Ford</td>\n",
       "      <td>298</td>\n",
       "      <td>2</td>\n",
       "      <td>Joffrey/Tommen Baratheon</td>\n",
       "      <td>Robb Stark</td>\n",
       "      <td>Lannister</td>\n",
       "      <td>NaN</td>\n",
       "      <td>NaN</td>\n",
       "      <td>NaN</td>\n",
       "      <td>Baratheon</td>\n",
       "      <td>...</td>\n",
       "      <td>1.0</td>\n",
       "      <td>0.0</td>\n",
       "      <td>NaN</td>\n",
       "      <td>120.0</td>\n",
       "      <td>Gregor Clegane</td>\n",
       "      <td>Beric Dondarrion</td>\n",
       "      <td>1.0</td>\n",
       "      <td>Mummer's Ford</td>\n",
       "      <td>The Riverlands</td>\n",
       "      <td>NaN</td>\n",
       "    </tr>\n",
       "    <tr>\n",
       "      <th>2</th>\n",
       "      <td>Battle of Riverrun</td>\n",
       "      <td>298</td>\n",
       "      <td>3</td>\n",
       "      <td>Joffrey/Tommen Baratheon</td>\n",
       "      <td>Robb Stark</td>\n",
       "      <td>Lannister</td>\n",
       "      <td>NaN</td>\n",
       "      <td>NaN</td>\n",
       "      <td>NaN</td>\n",
       "      <td>Tully</td>\n",
       "      <td>...</td>\n",
       "      <td>0.0</td>\n",
       "      <td>1.0</td>\n",
       "      <td>15000.0</td>\n",
       "      <td>10000.0</td>\n",
       "      <td>Jaime Lannister, Andros Brax</td>\n",
       "      <td>Edmure Tully, Tytos Blackwood</td>\n",
       "      <td>1.0</td>\n",
       "      <td>Riverrun</td>\n",
       "      <td>The Riverlands</td>\n",
       "      <td>NaN</td>\n",
       "    </tr>\n",
       "    <tr>\n",
       "      <th>3</th>\n",
       "      <td>Battle of the Green Fork</td>\n",
       "      <td>298</td>\n",
       "      <td>4</td>\n",
       "      <td>Robb Stark</td>\n",
       "      <td>Joffrey/Tommen Baratheon</td>\n",
       "      <td>Stark</td>\n",
       "      <td>NaN</td>\n",
       "      <td>NaN</td>\n",
       "      <td>NaN</td>\n",
       "      <td>Lannister</td>\n",
       "      <td>...</td>\n",
       "      <td>1.0</td>\n",
       "      <td>1.0</td>\n",
       "      <td>18000.0</td>\n",
       "      <td>20000.0</td>\n",
       "      <td>Roose Bolton, Wylis Manderly, Medger Cerwyn, H...</td>\n",
       "      <td>Tywin Lannister, Gregor Clegane, Kevan Lannist...</td>\n",
       "      <td>1.0</td>\n",
       "      <td>Green Fork</td>\n",
       "      <td>The Riverlands</td>\n",
       "      <td>NaN</td>\n",
       "    </tr>\n",
       "    <tr>\n",
       "      <th>4</th>\n",
       "      <td>Battle of the Whispering Wood</td>\n",
       "      <td>298</td>\n",
       "      <td>5</td>\n",
       "      <td>Robb Stark</td>\n",
       "      <td>Joffrey/Tommen Baratheon</td>\n",
       "      <td>Stark</td>\n",
       "      <td>Tully</td>\n",
       "      <td>NaN</td>\n",
       "      <td>NaN</td>\n",
       "      <td>Lannister</td>\n",
       "      <td>...</td>\n",
       "      <td>1.0</td>\n",
       "      <td>1.0</td>\n",
       "      <td>1875.0</td>\n",
       "      <td>6000.0</td>\n",
       "      <td>Robb Stark, Brynden Tully</td>\n",
       "      <td>Jaime Lannister</td>\n",
       "      <td>1.0</td>\n",
       "      <td>Whispering Wood</td>\n",
       "      <td>The Riverlands</td>\n",
       "      <td>NaN</td>\n",
       "    </tr>\n",
       "  </tbody>\n",
       "</table>\n",
       "<p>5 rows × 25 columns</p>\n",
       "</div>"
      ],
      "text/plain": [
       "                            name  year  battle_number  \\\n",
       "0     Battle of the Golden Tooth   298              1   \n",
       "1    Battle at the Mummer's Ford   298              2   \n",
       "2             Battle of Riverrun   298              3   \n",
       "3       Battle of the Green Fork   298              4   \n",
       "4  Battle of the Whispering Wood   298              5   \n",
       "\n",
       "              attacker_king             defender_king attacker_1 attacker_2  \\\n",
       "0  Joffrey/Tommen Baratheon                Robb Stark  Lannister        NaN   \n",
       "1  Joffrey/Tommen Baratheon                Robb Stark  Lannister        NaN   \n",
       "2  Joffrey/Tommen Baratheon                Robb Stark  Lannister        NaN   \n",
       "3                Robb Stark  Joffrey/Tommen Baratheon      Stark        NaN   \n",
       "4                Robb Stark  Joffrey/Tommen Baratheon      Stark      Tully   \n",
       "\n",
       "  attacker_3 attacker_4 defender_1  ... major_death  major_capture  \\\n",
       "0        NaN        NaN      Tully  ...         1.0            0.0   \n",
       "1        NaN        NaN  Baratheon  ...         1.0            0.0   \n",
       "2        NaN        NaN      Tully  ...         0.0            1.0   \n",
       "3        NaN        NaN  Lannister  ...         1.0            1.0   \n",
       "4        NaN        NaN  Lannister  ...         1.0            1.0   \n",
       "\n",
       "   attacker_size defender_size  \\\n",
       "0        15000.0        4000.0   \n",
       "1            NaN         120.0   \n",
       "2        15000.0       10000.0   \n",
       "3        18000.0       20000.0   \n",
       "4         1875.0        6000.0   \n",
       "\n",
       "                                  attacker_commander  \\\n",
       "0                                    Jaime Lannister   \n",
       "1                                     Gregor Clegane   \n",
       "2                       Jaime Lannister, Andros Brax   \n",
       "3  Roose Bolton, Wylis Manderly, Medger Cerwyn, H...   \n",
       "4                          Robb Stark, Brynden Tully   \n",
       "\n",
       "                                  defender_commander  summer         location  \\\n",
       "0                               Clement Piper, Vance     1.0     Golden Tooth   \n",
       "1                                   Beric Dondarrion     1.0    Mummer's Ford   \n",
       "2                      Edmure Tully, Tytos Blackwood     1.0         Riverrun   \n",
       "3  Tywin Lannister, Gregor Clegane, Kevan Lannist...     1.0       Green Fork   \n",
       "4                                    Jaime Lannister     1.0  Whispering Wood   \n",
       "\n",
       "            region note  \n",
       "0  The Westerlands  NaN  \n",
       "1   The Riverlands  NaN  \n",
       "2   The Riverlands  NaN  \n",
       "3   The Riverlands  NaN  \n",
       "4   The Riverlands  NaN  \n",
       "\n",
       "[5 rows x 25 columns]"
      ]
     },
     "execution_count": 2,
     "metadata": {},
     "output_type": "execute_result"
    }
   ],
   "source": [
    "battle = pd.read_csv('/kaggle/input/game-of-thrones/battles.csv')\n",
    "battle.head()"
   ]
  },
  {
   "cell_type": "code",
   "execution_count": 3,
   "id": "37ac903b",
   "metadata": {
    "execution": {
     "iopub.execute_input": "2021-11-22T17:10:46.293283Z",
     "iopub.status.busy": "2021-11-22T17:10:46.292562Z",
     "iopub.status.idle": "2021-11-22T17:10:46.296968Z",
     "shell.execute_reply": "2021-11-22T17:10:46.297499Z",
     "shell.execute_reply.started": "2021-11-22T17:07:51.197929Z"
    },
    "papermill": {
     "duration": 0.021596,
     "end_time": "2021-11-22T17:10:46.297661",
     "exception": false,
     "start_time": "2021-11-22T17:10:46.276065",
     "status": "completed"
    },
    "tags": []
   },
   "outputs": [
    {
     "data": {
      "text/plain": [
       "(38, 25)"
      ]
     },
     "execution_count": 3,
     "metadata": {},
     "output_type": "execute_result"
    }
   ],
   "source": [
    "battle.shape"
   ]
  },
  {
   "cell_type": "code",
   "execution_count": 4,
   "id": "1b6413f8",
   "metadata": {
    "execution": {
     "iopub.execute_input": "2021-11-22T17:10:46.329569Z",
     "iopub.status.busy": "2021-11-22T17:10:46.328876Z",
     "iopub.status.idle": "2021-11-22T17:10:46.333528Z",
     "shell.execute_reply": "2021-11-22T17:10:46.334128Z",
     "shell.execute_reply.started": "2021-11-22T17:07:51.205161Z"
    },
    "papermill": {
     "duration": 0.022653,
     "end_time": "2021-11-22T17:10:46.334310",
     "exception": false,
     "start_time": "2021-11-22T17:10:46.311657",
     "status": "completed"
    },
    "tags": []
   },
   "outputs": [
    {
     "data": {
      "text/plain": [
       "Index(['name', 'year', 'battle_number', 'attacker_king', 'defender_king',\n",
       "       'attacker_1', 'attacker_2', 'attacker_3', 'attacker_4', 'defender_1',\n",
       "       'defender_2', 'defender_3', 'defender_4', 'attacker_outcome',\n",
       "       'battle_type', 'major_death', 'major_capture', 'attacker_size',\n",
       "       'defender_size', 'attacker_commander', 'defender_commander', 'summer',\n",
       "       'location', 'region', 'note'],\n",
       "      dtype='object')"
      ]
     },
     "execution_count": 4,
     "metadata": {},
     "output_type": "execute_result"
    }
   ],
   "source": [
    "battle.columns # the columns of the Dataset "
   ]
  },
  {
   "cell_type": "markdown",
   "id": "381561b2",
   "metadata": {
    "papermill": {
     "duration": 0.013946,
     "end_time": "2021-11-22T17:10:46.362627",
     "exception": false,
     "start_time": "2021-11-22T17:10:46.348681",
     "status": "completed"
    },
    "tags": []
   },
   "source": [
    "One of my favorite TV shows to have been watched is Game of thrones, i will excuse the awful ending of the show and the waste of characher developments and prophecies \n"
   ]
  },
  {
   "cell_type": "markdown",
   "id": "3f8b94e9",
   "metadata": {
    "papermill": {
     "duration": 0.013928,
     "end_time": "2021-11-22T17:10:46.390731",
     "exception": false,
     "start_time": "2021-11-22T17:10:46.376803",
     "status": "completed"
    },
    "tags": []
   },
   "source": [
    "### Univariate Analysis "
   ]
  },
  {
   "cell_type": "code",
   "execution_count": 5,
   "id": "4e189f57",
   "metadata": {
    "execution": {
     "iopub.execute_input": "2021-11-22T17:10:46.422522Z",
     "iopub.status.busy": "2021-11-22T17:10:46.421893Z",
     "iopub.status.idle": "2021-11-22T17:10:47.726231Z",
     "shell.execute_reply": "2021-11-22T17:10:47.726820Z",
     "shell.execute_reply.started": "2021-11-22T17:07:51.218451Z"
    },
    "papermill": {
     "duration": 1.321788,
     "end_time": "2021-11-22T17:10:47.727011",
     "exception": false,
     "start_time": "2021-11-22T17:10:46.405223",
     "status": "completed"
    },
    "tags": []
   },
   "outputs": [
    {
     "data": {
      "image/png": "[encoded data removed]",
      "text/plain": [
       "<Figure size 936x792 with 1 Axes>"
      ]
     },
     "metadata": {},
     "output_type": "display_data"
    }
   ],
   "source": [
    "import seaborn as sns\n",
    "import matplotlib.pyplot as plt\n",
    "%matplotlib inline\n",
    "sns.set(rc={'figure.figsize':(13,11)})\n",
    "sns.barplot(x='attacker_king',y= 'attacker_size',data=battle)\n",
    "plt.title('The Attacking kings and their Army size',fontsize=20)\n",
    "plt.show()"
   ]
  },
  {
   "cell_type": "markdown",
   "id": "35f77606",
   "metadata": {
    "papermill": {
     "duration": 0.015336,
     "end_time": "2021-11-22T17:10:47.758061",
     "exception": false,
     "start_time": "2021-11-22T17:10:47.742725",
     "status": "completed"
    },
    "tags": []
   },
   "source": [
    "From the this bachart, it is reviewed that Stannis Baratheon had the highest number of men,That means he would be a force to reckon with. Now for the rest of the Attacking kings, Euron Greyjoy has the smallest number of men and that's not the only small thing about this attacker. Despite, The size of his Army he still leads them into war, According Tho the books, the Overrulling kingdom was that of the Baratheons(Joffrey/Tommen) who are also Lannisters would be the kings expected to have the highest number of men due to their affliltion with the Lannisters. Robb Stark(The Young wolf ) Has not much men. Notice that the men of the North (Greyjoy anD Stark) have a small size in terms of army size."
   ]
  },
  {
   "cell_type": "code",
   "execution_count": 6,
   "id": "6f341aeb",
   "metadata": {
    "execution": {
     "iopub.execute_input": "2021-11-22T17:10:47.793864Z",
     "iopub.status.busy": "2021-11-22T17:10:47.792790Z",
     "iopub.status.idle": "2021-11-22T17:10:48.272056Z",
     "shell.execute_reply": "2021-11-22T17:10:48.271483Z",
     "shell.execute_reply.started": "2021-11-22T17:07:51.548620Z"
    },
    "papermill": {
     "duration": 0.498352,
     "end_time": "2021-11-22T17:10:48.272195",
     "exception": false,
     "start_time": "2021-11-22T17:10:47.773843",
     "status": "completed"
    },
    "tags": []
   },
   "outputs": [
    {
     "data": {
      "image/png": "[encoded data removed]",
      "text/plain": [
       "<Figure size 1080x792 with 1 Axes>"
      ]
     },
     "metadata": {},
     "output_type": "display_data"
    }
   ],
   "source": [
    "sns.set(rc={'figure.figsize':(15,11)})\n",
    "sns.barplot(x='defender_king',y= 'defender_size',data=battle)\n",
    "plt.title('The Defending kings and their Army size',fontsize=20)\n",
    "plt.show()"
   ]
  },
  {
   "cell_type": "code",
   "execution_count": 7,
   "id": "f2063a03",
   "metadata": {
    "execution": {
     "iopub.execute_input": "2021-11-22T17:10:48.312091Z",
     "iopub.status.busy": "2021-11-22T17:10:48.311271Z",
     "iopub.status.idle": "2021-11-22T17:10:48.314551Z",
     "shell.execute_reply": "2021-11-22T17:10:48.315054Z",
     "shell.execute_reply.started": "2021-11-22T17:07:51.882267Z"
    },
    "papermill": {
     "duration": 0.026247,
     "end_time": "2021-11-22T17:10:48.315219",
     "exception": false,
     "start_time": "2021-11-22T17:10:48.288972",
     "status": "completed"
    },
    "tags": []
   },
   "outputs": [
    {
     "data": {
      "text/plain": [
       "Index(['name', 'year', 'battle_number', 'attacker_king', 'defender_king',\n",
       "       'attacker_1', 'attacker_2', 'attacker_3', 'attacker_4', 'defender_1',\n",
       "       'defender_2', 'defender_3', 'defender_4', 'attacker_outcome',\n",
       "       'battle_type', 'major_death', 'major_capture', 'attacker_size',\n",
       "       'defender_size', 'attacker_commander', 'defender_commander', 'summer',\n",
       "       'location', 'region', 'note'],\n",
       "      dtype='object')"
      ]
     },
     "execution_count": 7,
     "metadata": {},
     "output_type": "execute_result"
    }
   ],
   "source": [
    "battle.columns"
   ]
  },
  {
   "cell_type": "markdown",
   "id": "9f61cd1c",
   "metadata": {
    "papermill": {
     "duration": 0.016729,
     "end_time": "2021-11-22T17:10:48.348865",
     "exception": false,
     "start_time": "2021-11-22T17:10:48.332136",
     "status": "completed"
    },
    "tags": []
   },
   "source": [
    "# The Strageties behind the Attacking Kings 's battles"
   ]
  },
  {
   "cell_type": "code",
   "execution_count": 8,
   "id": "3250d079",
   "metadata": {
    "execution": {
     "iopub.execute_input": "2021-11-22T17:10:48.386667Z",
     "iopub.status.busy": "2021-11-22T17:10:48.385699Z",
     "iopub.status.idle": "2021-11-22T17:10:48.691366Z",
     "shell.execute_reply": "2021-11-22T17:10:48.692265Z",
     "shell.execute_reply.started": "2021-11-22T17:07:51.888949Z"
    },
    "papermill": {
     "duration": 0.326555,
     "end_time": "2021-11-22T17:10:48.692472",
     "exception": false,
     "start_time": "2021-11-22T17:10:48.365917",
     "status": "completed"
    },
    "tags": []
   },
   "outputs": [
    {
     "data": {
      "image/png": "[encoded data removed]",
      "text/plain": [
       "<Figure size 1080x432 with 1 Axes>"
      ]
     },
     "metadata": {},
     "output_type": "display_data"
    }
   ],
   "source": [
    "\n",
    "sns.set(rc={'figure.figsize':(15,6)})\n",
    "sns.countplot(x='attacker_king',hue='battle_type',data=battle)\n",
    "plt.title('The Battle types of the Attacking Kings',fontsize=20)\n",
    "plt.show()"
   ]
  },
  {
   "cell_type": "markdown",
   "id": "c4bdfd0c",
   "metadata": {
    "papermill": {
     "duration": 0.018173,
     "end_time": "2021-11-22T17:10:48.729183",
     "exception": false,
     "start_time": "2021-11-22T17:10:48.711010",
     "status": "completed"
    },
    "tags": []
   },
   "source": [
    "One thing in battles is having the  right army size and another thing is to have a plan or stragegy to know how to use them. For Joffrey/Tommen Baratheon they would most likely have a pitched battle twice as much as the other attacking kings.\n",
    "\n",
    ">An ambush is a long-established military tactic in which combatants take advantage of concealment or the element of surprise to attack unsuspecting enemy combatants from concealed positions, such as among dense underbrush or behind hilltops\n",
    "\n",
    "\n",
    "*Source:Wikipedia*\n",
    "\n",
    "\n",
    "Joeffrey/Tommen Baratheon are not really the ambushing type unlike Robb Stark,Robb Stark's favourite battle type is  Ambushing. \n",
    "\n",
    "Joeffrey/Tommen Baratheon is 2 times more likely to use the seige battle type against its opponents.i.e he act or process of surrounding and attacking a fortified place in such a way as to isolate it from help and supplies.\n",
    "\n",
    "Euron Greyjoy, although with a small army is only one that carried out razing battle type i.e destroyed and burned everything to the ground.\n",
    "\n",
    "As for Stannis Baratheon, You would expect the Owner of the largest army to have one of best battle types and to have attacked alot of times.\n",
    " \n"
   ]
  },
  {
   "cell_type": "code",
   "execution_count": 9,
   "id": "a8b473da",
   "metadata": {
    "execution": {
     "iopub.execute_input": "2021-11-22T17:10:48.770249Z",
     "iopub.status.busy": "2021-11-22T17:10:48.769214Z",
     "iopub.status.idle": "2021-11-22T17:10:48.772518Z",
     "shell.execute_reply": "2021-11-22T17:10:48.773020Z",
     "shell.execute_reply.started": "2021-11-22T17:07:52.190691Z"
    },
    "papermill": {
     "duration": 0.025485,
     "end_time": "2021-11-22T17:10:48.773184",
     "exception": false,
     "start_time": "2021-11-22T17:10:48.747699",
     "status": "completed"
    },
    "tags": []
   },
   "outputs": [],
   "source": [
    "# deaths = pd.read_csv('/kaggle/input/game-of-thrones/character-deaths.csv')\n",
    "# deaths.head()"
   ]
  },
  {
   "cell_type": "code",
   "execution_count": null,
   "id": "87b08de9",
   "metadata": {
    "papermill": {
     "duration": 0.018274,
     "end_time": "2021-11-22T17:10:48.809846",
     "exception": false,
     "start_time": "2021-11-22T17:10:48.791572",
     "status": "completed"
    },
    "tags": []
   },
   "outputs": [],
   "source": []
  },
  {
   "cell_type": "code",
   "execution_count": null,
   "id": "c8dcda3d",
   "metadata": {
    "papermill": {
     "duration": 0.018075,
     "end_time": "2021-11-22T17:10:48.847060",
     "exception": false,
     "start_time": "2021-11-22T17:10:48.828985",
     "status": "completed"
    },
    "tags": []
   },
   "outputs": [],
   "source": []
  }
 ],
 "metadata": {
  "kernelspec": {
   "display_name": "Python 3",
   "language": "python",
   "name": "python3"
  },
  "language_info": {
   "codemirror_mode": {
    "name": "ipython",
    "version": 3
   },
   "file_extension": ".py",
   "mimetype": "text/x-python",
   "name": "python",
   "nbconvert_exporter": "python",
   "pygments_lexer": "ipython3",
   "version": "3.7.10"
  },
  "papermill": {
   "default_parameters": {},
   "duration": 12.175439,
   "end_time": "2021-11-22T17:10:49.476526",
   "environment_variables": {},
   "exception": null,
   "input_path": "__notebook__.ipynb",
   "output_path": "__notebook__.ipynb",
   "parameters": {},
   "start_time": "2021-11-22T17:10:37.301087",
   "version": "2.3.3"
  }
 },
 "nbformat": 4,
 "nbformat_minor": 5
}
